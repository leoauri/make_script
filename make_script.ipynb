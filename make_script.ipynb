{
 "cells": [
  {
   "cell_type": "code",
   "execution_count": 1,
   "metadata": {},
   "outputs": [],
   "source": [
    "import json\n",
    "from pathlib import Path\n",
    "import re"
   ]
  },
  {
   "cell_type": "code",
   "execution_count": 2,
   "metadata": {},
   "outputs": [],
   "source": [
    "input_file = Path('WaveFlow/utils/open_random_segment.ipynb')"
   ]
  },
  {
   "cell_type": "code",
   "execution_count": 3,
   "metadata": {},
   "outputs": [
    {
     "data": {
      "text/plain": [
       "'open_random_segment'"
      ]
     },
     "execution_count": 3,
     "metadata": {},
     "output_type": "execute_result"
    }
   ],
   "source": [
    "input_file.stem"
   ]
  },
  {
   "cell_type": "code",
   "execution_count": 4,
   "metadata": {},
   "outputs": [
    {
     "data": {
      "text/plain": [
       "PosixPath('open_random_segment')"
      ]
     },
     "execution_count": 4,
     "metadata": {},
     "output_type": "execute_result"
    }
   ],
   "source": [
    "output_path = Path(input_file.stem)\n",
    "output_path"
   ]
  },
  {
   "cell_type": "code",
   "execution_count": 11,
   "metadata": {},
   "outputs": [],
   "source": [
    "input_nb = json.load(open(input_file,'r',encoding=\"utf-8\"))"
   ]
  },
  {
   "cell_type": "code",
   "execution_count": 12,
   "metadata": {},
   "outputs": [
    {
     "data": {
      "text/plain": [
       "{'cells': [{'cell_type': 'code',\n",
       "   'execution_count': 15,\n",
       "   'metadata': {},\n",
       "   'outputs': [],\n",
       "   'source': ['#export\\n',\n",
       "    'import json\\n',\n",
       "    'import re\\n',\n",
       "    'import fire\\n',\n",
       "    'from pathlib import Path\\n',\n",
       "    '\\n',\n",
       "    'def is_tests(cell):\\n',\n",
       "    \"    return cell['source'] and re.match(r'^#tests$', cell['source'][0])\\n\",\n",
       "    '\\n',\n",
       "    'def blankt_cells(cells):\\n',\n",
       "    '    output_cells = []\\n',\n",
       "    '    for cell in cells:\\n',\n",
       "    \"        if cell['cell_type'] == 'code' and not is_tests(cell):\\n\",\n",
       "    \"            cell['source'] = [code_line if code_line.strip().startswith('#') \\n\",\n",
       "    \"                              else '\\\\n' if code_line.endswith('\\\\n') \\n\",\n",
       "    \"                              else '' \\n\",\n",
       "    \"                              for code_line in cell['source']]\\n\",\n",
       "    '        output_cells.append(cell)\\n',\n",
       "    '    return output_cells\\n',\n",
       "    '\\n',\n",
       "    'def save_path(input_path, version):\\n',\n",
       "    \"    name_unblnkt = input_path.stem.split('-blnkt')[0]\\n\",\n",
       "    \"    return input_path.with_name(f'{name_unblnkt}-blnkt-{version:02}{input_path.suffix}')\\n\",\n",
       "    '\\n',\n",
       "    'def blankt_file(input_path, verbose):\\n',\n",
       "    '    input_file = json.load(open(input_path,\\'r\\',encoding=\"utf-8\"))\\n',\n",
       "    '\\n',\n",
       "    \"    input_file['cells'] = blankt_cells(input_file['cells'])\\n\",\n",
       "    '    if verbose:\\n',\n",
       "    '        print(input_file)\\n',\n",
       "    '\\n',\n",
       "    '    \\n',\n",
       "    '    version = 1\\n',\n",
       "    '\\n',\n",
       "    '    output_path = save_path(input_path, version)\\n',\n",
       "    '\\n',\n",
       "    \"    # increment version until file doesn't exist\\n\",\n",
       "    '    while output_path.exists():\\n',\n",
       "    '        version += 1\\n',\n",
       "    '        output_path = save_path(input_path, version)\\n',\n",
       "    '\\n',\n",
       "    \"    with open(output_path, 'w') as output_file:\\n\",\n",
       "    '        json.dump(input_file, output_file)\\n',\n",
       "    '        \\n',\n",
       "    \"    print(f'blankt notebook saved as {output_path}')\\n\",\n",
       "    '\\n',\n",
       "    'def main(input_path=None, verbose=False):\\n',\n",
       "    '    if not input_path:\\n',\n",
       "    \"        print('No path provided')\\n\",\n",
       "    '    else:\\n',\n",
       "    '        input_path = Path(input_path)\\n',\n",
       "    '        blankt_file(input_path, verbose)']},\n",
       "  {'cell_type': 'code',\n",
       "   'execution_count': None,\n",
       "   'metadata': {},\n",
       "   'outputs': [],\n",
       "   'source': ['#export\\n', \"if __name__ == '__main__': fire.Fire(main)\"]},\n",
       "  {'cell_type': 'code',\n",
       "   'execution_count': 16,\n",
       "   'metadata': {},\n",
       "   'outputs': [],\n",
       "   'source': [\"input_path = Path('test_nb.ipynb')\"]},\n",
       "  {'cell_type': 'code',\n",
       "   'execution_count': 17,\n",
       "   'metadata': {},\n",
       "   'outputs': [{'name': 'stdout',\n",
       "     'output_type': 'stream',\n",
       "     'text': ['blankt notebook saved as test_nb-blnkt-03.ipynb\\n']}],\n",
       "   'source': ['main(input_path)']},\n",
       "  {'cell_type': 'code',\n",
       "   'execution_count': 6,\n",
       "   'metadata': {},\n",
       "   'outputs': [{'data': {'text/plain': [\"[PosixPath('nb_blnkter.ipynb'),\\n\",\n",
       "       \" PosixPath('test_nb-blnkt-01.ipynb'),\\n\",\n",
       "       \" PosixPath('.ipynb_checkpoints'),\\n\",\n",
       "       \" PosixPath('test_nb.ipynb'),\\n\",\n",
       "       \" PosixPath('.git'),\\n\",\n",
       "       \" PosixPath('nb_blnkter')]\"]},\n",
       "     'execution_count': 6,\n",
       "     'metadata': {},\n",
       "     'output_type': 'execute_result'}],\n",
       "   'source': ['list(Path().iterdir())']},\n",
       "  {'cell_type': 'code',\n",
       "   'execution_count': 11,\n",
       "   'metadata': {},\n",
       "   'outputs': [],\n",
       "   'source': ['input_file = json.load(open(input_path,\\'r\\',encoding=\"utf-8\"))']},\n",
       "  {'cell_type': 'code',\n",
       "   'execution_count': 12,\n",
       "   'metadata': {},\n",
       "   'outputs': [{'data': {'text/plain': [\"{'cells': [{'cell_type': 'code',\\n\",\n",
       "       \"   'execution_count': 1,\\n\",\n",
       "       \"   'metadata': {},\\n\",\n",
       "       \"   'outputs': [{'name': 'stdout',\\n\",\n",
       "       \"     'output_type': 'stream',\\n\",\n",
       "       \"     'text': ['Hello\\\\n']}],\\n\",\n",
       "       '   \\'source\\': [\"print(\\'Hello\\')\"]},\\n',\n",
       "       \"  {'cell_type': 'code',\\n\",\n",
       "       \"   'execution_count': 2,\\n\",\n",
       "       \"   'metadata': {},\\n\",\n",
       "       \"   'outputs': [],\\n\",\n",
       "       \"   'source': ['#tests\\\\n', 'assert True']},\\n\",\n",
       "       \"  {'cell_type': 'markdown', 'metadata': {}, 'source': ['This should remain.']},\\n\",\n",
       "       \"  {'cell_type': 'code',\\n\",\n",
       "       \"   'execution_count': 3,\\n\",\n",
       "       \"   'metadata': {},\\n\",\n",
       "       \"   'outputs': [{'name': 'stdout',\\n\",\n",
       "       \"     'output_type': 'stream',\\n\",\n",
       "       \"     'text': ['This go\\\\n']}],\\n\",\n",
       "       '   \\'source\\': [\\'# comment should remain\\\\n\\', \"print(\\'This go\\')\"]},\\n',\n",
       "       \"  {'cell_type': 'code',\\n\",\n",
       "       \"   'execution_count': None,\\n\",\n",
       "       \"   'metadata': {},\\n\",\n",
       "       \"   'outputs': [],\\n\",\n",
       "       \"   'source': []}],\\n\",\n",
       "       \" 'metadata': {'kernelspec': {'display_name': 'Python 3',\\n\",\n",
       "       \"   'language': 'python',\\n\",\n",
       "       \"   'name': 'python3'},\\n\",\n",
       "       \"  'language_info': {'codemirror_mode': {'name': 'ipython', 'version': 3},\\n\",\n",
       "       \"   'file_extension': '.py',\\n\",\n",
       "       \"   'mimetype': 'text/x-python',\\n\",\n",
       "       \"   'name': 'python',\\n\",\n",
       "       \"   'nbconvert_exporter': 'python',\\n\",\n",
       "       \"   'pygments_lexer': 'ipython3',\\n\",\n",
       "       \"   'version': '3.7.4'}},\\n\",\n",
       "       \" 'nbformat': 4,\\n\",\n",
       "       \" 'nbformat_minor': 2}\"]},\n",
       "     'execution_count': 12,\n",
       "     'metadata': {},\n",
       "     'output_type': 'execute_result'}],\n",
       "   'source': ['input_file']},\n",
       "  {'cell_type': 'code',\n",
       "   'execution_count': None,\n",
       "   'metadata': {},\n",
       "   'outputs': [],\n",
       "   'source': []}],\n",
       " 'metadata': {'kernelspec': {'display_name': 'Python 3',\n",
       "   'language': 'python',\n",
       "   'name': 'python3'},\n",
       "  'language_info': {'codemirror_mode': {'name': 'ipython', 'version': 3},\n",
       "   'file_extension': '.py',\n",
       "   'mimetype': 'text/x-python',\n",
       "   'name': 'python',\n",
       "   'nbconvert_exporter': 'python',\n",
       "   'pygments_lexer': 'ipython3',\n",
       "   'version': '3.7.4'}},\n",
       " 'nbformat': 4,\n",
       " 'nbformat_minor': 2}"
      ]
     },
     "execution_count": 12,
     "metadata": {},
     "output_type": "execute_result"
    }
   ],
   "source": [
    "input_nb"
   ]
  },
  {
   "cell_type": "code",
   "execution_count": 14,
   "metadata": {},
   "outputs": [],
   "source": [
    "def is_export(cell):\n",
    "    if cell['cell_type'] != 'code': return False\n",
    "    src = cell['source']\n",
    "    if len(src) == 0 or len(src[0]) < 7: return False\n",
    "    return re.match(r'^#export$', src[0], re.IGNORECASE) is not None"
   ]
  },
  {
   "cell_type": "code",
   "execution_count": 15,
   "metadata": {},
   "outputs": [],
   "source": [
    "export_cells = [c for c in input_nb['cells'] if is_export(c)]"
   ]
  },
  {
   "cell_type": "code",
   "execution_count": 16,
   "metadata": {
    "scrolled": true
   },
   "outputs": [
    {
     "data": {
      "text/plain": [
       "[{'cell_type': 'code',\n",
       "  'execution_count': 15,\n",
       "  'metadata': {},\n",
       "  'outputs': [],\n",
       "  'source': ['#export\\n',\n",
       "   'import json\\n',\n",
       "   'import re\\n',\n",
       "   'import fire\\n',\n",
       "   'from pathlib import Path\\n',\n",
       "   '\\n',\n",
       "   'def is_tests(cell):\\n',\n",
       "   \"    return cell['source'] and re.match(r'^#tests$', cell['source'][0])\\n\",\n",
       "   '\\n',\n",
       "   'def blankt_cells(cells):\\n',\n",
       "   '    output_cells = []\\n',\n",
       "   '    for cell in cells:\\n',\n",
       "   \"        if cell['cell_type'] == 'code' and not is_tests(cell):\\n\",\n",
       "   \"            cell['source'] = [code_line if code_line.strip().startswith('#') \\n\",\n",
       "   \"                              else '\\\\n' if code_line.endswith('\\\\n') \\n\",\n",
       "   \"                              else '' \\n\",\n",
       "   \"                              for code_line in cell['source']]\\n\",\n",
       "   '        output_cells.append(cell)\\n',\n",
       "   '    return output_cells\\n',\n",
       "   '\\n',\n",
       "   'def save_path(input_path, version):\\n',\n",
       "   \"    name_unblnkt = input_path.stem.split('-blnkt')[0]\\n\",\n",
       "   \"    return input_path.with_name(f'{name_unblnkt}-blnkt-{version:02}{input_path.suffix}')\\n\",\n",
       "   '\\n',\n",
       "   'def blankt_file(input_path, verbose):\\n',\n",
       "   '    input_file = json.load(open(input_path,\\'r\\',encoding=\"utf-8\"))\\n',\n",
       "   '\\n',\n",
       "   \"    input_file['cells'] = blankt_cells(input_file['cells'])\\n\",\n",
       "   '    if verbose:\\n',\n",
       "   '        print(input_file)\\n',\n",
       "   '\\n',\n",
       "   '    \\n',\n",
       "   '    version = 1\\n',\n",
       "   '\\n',\n",
       "   '    output_path = save_path(input_path, version)\\n',\n",
       "   '\\n',\n",
       "   \"    # increment version until file doesn't exist\\n\",\n",
       "   '    while output_path.exists():\\n',\n",
       "   '        version += 1\\n',\n",
       "   '        output_path = save_path(input_path, version)\\n',\n",
       "   '\\n',\n",
       "   \"    with open(output_path, 'w') as output_file:\\n\",\n",
       "   '        json.dump(input_file, output_file)\\n',\n",
       "   '        \\n',\n",
       "   \"    print(f'blankt notebook saved as {output_path}')\\n\",\n",
       "   '\\n',\n",
       "   'def main(input_path=None, verbose=False):\\n',\n",
       "   '    if not input_path:\\n',\n",
       "   \"        print('No path provided')\\n\",\n",
       "   '    else:\\n',\n",
       "   '        input_path = Path(input_path)\\n',\n",
       "   '        blankt_file(input_path, verbose)']},\n",
       " {'cell_type': 'code',\n",
       "  'execution_count': None,\n",
       "  'metadata': {},\n",
       "  'outputs': [],\n",
       "  'source': ['#export\\n', \"if __name__ == '__main__': fire.Fire(main)\"]}]"
      ]
     },
     "execution_count": 16,
     "metadata": {},
     "output_type": "execute_result"
    }
   ],
   "source": [
    "export_cells"
   ]
  },
  {
   "cell_type": "code",
   "execution_count": 23,
   "metadata": {},
   "outputs": [],
   "source": [
    "out_content = '''#!/usr/bin/env python3\n",
    "# coding: utf-8\\n\\n'''\n",
    "\n",
    "for cell in export_cells:\n",
    "    out_content += ''.join(cell['source'][1:]) + '\\n\\n'"
   ]
  },
  {
   "cell_type": "code",
   "execution_count": 25,
   "metadata": {},
   "outputs": [],
   "source": [
    "out_content = re.sub(r' +$', '', out_content, flags=re.MULTILINE)"
   ]
  },
  {
   "cell_type": "code",
   "execution_count": 26,
   "metadata": {
    "scrolled": true
   },
   "outputs": [
    {
     "name": "stdout",
     "output_type": "stream",
     "text": [
      "#!/usr/bin/env python3\n",
      "# coding: utf-8\n",
      "\n",
      "import json\n",
      "import re\n",
      "import fire\n",
      "from pathlib import Path\n",
      "\n",
      "def is_tests(cell):\n",
      "    return cell['source'] and re.match(r'^#tests$', cell['source'][0])\n",
      "\n",
      "def blankt_cells(cells):\n",
      "    output_cells = []\n",
      "    for cell in cells:\n",
      "        if cell['cell_type'] == 'code' and not is_tests(cell):\n",
      "            cell['source'] = [code_line if code_line.strip().startswith('#')\n",
      "                              else '\\n' if code_line.endswith('\\n')\n",
      "                              else ''\n",
      "                              for code_line in cell['source']]\n",
      "        output_cells.append(cell)\n",
      "    return output_cells\n",
      "\n",
      "def save_path(input_path, version):\n",
      "    name_unblnkt = input_path.stem.split('-blnkt')[0]\n",
      "    return input_path.with_name(f'{name_unblnkt}-blnkt-{version:02}{input_path.suffix}')\n",
      "\n",
      "def blankt_file(input_path, verbose):\n",
      "    input_file = json.load(open(input_path,'r',encoding=\"utf-8\"))\n",
      "\n",
      "    input_file['cells'] = blankt_cells(input_file['cells'])\n",
      "    if verbose:\n",
      "        print(input_file)\n",
      "\n",
      "\n",
      "    version = 1\n",
      "\n",
      "    output_path = save_path(input_path, version)\n",
      "\n",
      "    # increment version until file doesn't exist\n",
      "    while output_path.exists():\n",
      "        version += 1\n",
      "        output_path = save_path(input_path, version)\n",
      "\n",
      "    with open(output_path, 'w') as output_file:\n",
      "        json.dump(input_file, output_file)\n",
      "\n",
      "    print(f'blankt notebook saved as {output_path}')\n",
      "\n",
      "def main(input_path=None, verbose=False):\n",
      "    if not input_path:\n",
      "        print('No path provided')\n",
      "    else:\n",
      "        input_path = Path(input_path)\n",
      "        blankt_file(input_path, verbose)\n",
      "\n",
      "if __name__ == '__main__': fire.Fire(main)\n",
      "\n",
      "\n"
     ]
    }
   ],
   "source": [
    "print(out_content)"
   ]
  },
  {
   "cell_type": "code",
   "execution_count": 30,
   "metadata": {},
   "outputs": [],
   "source": [
    "with io.open(output_path, \"w\", encoding=\"utf-8\") as f:\n",
    "    f.write(out_content[:-2])"
   ]
  },
  {
   "cell_type": "code",
   "execution_count": null,
   "metadata": {},
   "outputs": [],
   "source": []
  }
 ],
 "metadata": {
  "kernelspec": {
   "display_name": "Python 3",
   "language": "python",
   "name": "python3"
  },
  "language_info": {
   "codemirror_mode": {
    "name": "ipython",
    "version": 3
   },
   "file_extension": ".py",
   "mimetype": "text/x-python",
   "name": "python",
   "nbconvert_exporter": "python",
   "pygments_lexer": "ipython3",
   "version": "3.7.7"
  }
 },
 "nbformat": 4,
 "nbformat_minor": 2
}
